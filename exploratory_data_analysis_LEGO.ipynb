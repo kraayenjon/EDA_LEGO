{
 "cells": [
  {
   "cell_type": "markdown",
   "id": "8a7b2a59",
   "metadata": {},
   "source": [
    "# Exploring LEGO Sets: Uncovering Fun Facts and Insights"
   ]
  },
  {
   "cell_type": "markdown",
   "id": "71d8d200",
   "metadata": {},
   "source": [
    "In this notebook we'll be exploring a **LEGO database**.  \n",
    "\n",
    "If you're a parent, chances are you've stepped on a LEGO brick or two (ouch!) and witnessed the magic that these tiny pieces bring to your child's playtime. In this notebook, I'm going to channel that magic into data exploration, discovering intriguing facts and insights about the LEGO sets my kids own.\n",
    "\n",
    "**Source of Exploration: The Rebrickable Dataset**\n",
    "\n",
    "The LEGO dataset has been sourced from Rebrickable.com. Rebrickable is a great place to gather information about countless LEGO sets, parts, colors, themes, and more. With this data, we'll embark on a  quest to uncover insights, trends, and fun facts about the LEGO sets."
   ]
  },
  {
   "cell_type": "markdown",
   "id": "66c32dfd",
   "metadata": {},
   "source": [
    "# The LEGO database\n",
    "\n",
    "To enhance comprehension, below is a **ERD (Entity Relationship Diagram)** downloaded from the LEGO database at [Rebrickable](https://rebrickable.com/downloads/). \n",
    "\n",
    "This will aid in understanding the relationships between the various tables. Subsequently, I will proceed to denormalize the tables for more clarity.\n",
    "\n",
    "![LEGO ERD](https://rebrickable.com/static/img/diagrams/downloads_schema_v3.png)"
   ]
  },
  {
   "cell_type": "code",
   "execution_count": 3,
   "id": "7b6e8eec",
   "metadata": {},
   "outputs": [],
   "source": [
    "## importing libraries\n",
    "import pandas as pd\n",
    "import matplotlib.pyplot as plt\n",
    "import seaborn as sns\n",
    "import os\n",
    "\n",
    "import warnings \n",
    "warnings.filterwarnings('ignore')"
   ]
  },
  {
   "cell_type": "code",
   "execution_count": 4,
   "id": "ef72999f",
   "metadata": {
    "scrolled": false
   },
   "outputs": [
    {
     "name": "stdout",
     "output_type": "stream",
     "text": [
      "['sets.csv.gz', 'inventory_minifigs.csv.gz', 'elements.csv.gz', 'minifigs.csv.gz', 'themes.csv.gz', 'part_relationships.csv.gz', 'inventory_parts.csv.gz', 'colors.csv.gz', 'parts.csv.gz', 'part_categories.csv.gz', 'themes.csv', 'inventories.csv.gz']\n"
     ]
    }
   ],
   "source": [
    "# directory/folder path\n",
    "dir_path = '**/exploratory_data_analysis/lego/datasets'   ## update the path to your working directory where you have all files saved.\n",
    "\n",
    "# list to store files\n",
    "files = []\n",
    "\n",
    "# Iterate directory to return all available files\n",
    "for file_path in os.listdir(dir_path):\n",
    "    # check if current file_path is a file\n",
    "    if os.path.isfile(os.path.join(dir_path, file_path)):\n",
    "        # add filename to list\n",
    "        files.append(file_path)\n",
    "print(files)"
   ]
  },
  {
   "cell_type": "code",
   "execution_count": 5,
   "id": "2da26f10",
   "metadata": {},
   "outputs": [
    {
     "name": "stdout",
     "output_type": "stream",
     "text": [
      "df_sets\n",
      "df_inventory_minifigs\n",
      "df_elements\n",
      "df_minifigs\n",
      "df_themes\n",
      "df_part_relationships\n",
      "df_inventory_parts\n",
      "df_colors\n",
      "df_parts\n",
      "df_part_categories\n",
      "df_themes\n",
      "df_inventories\n"
     ]
    }
   ],
   "source": [
    "##creating a df from every file in the working directory & printing them\n",
    "for file in files:\n",
    "    file_name = file.split('.')[0]\n",
    "    globals()[f'df_{file_name}'] = pd.read_csv(\n",
    "        f'{dir_path}/{file}', compression='gzip')\n",
    "    print(f'df_{file_name}')"
   ]
  },
  {
   "cell_type": "code",
   "execution_count": 6,
   "id": "523d28c7",
   "metadata": {},
   "outputs": [
    {
     "data": {
      "text/html": [
       "<div>\n",
       "<style scoped>\n",
       "    .dataframe tbody tr th:only-of-type {\n",
       "        vertical-align: middle;\n",
       "    }\n",
       "\n",
       "    .dataframe tbody tr th {\n",
       "        vertical-align: top;\n",
       "    }\n",
       "\n",
       "    .dataframe thead th {\n",
       "        text-align: right;\n",
       "    }\n",
       "</style>\n",
       "<table border=\"1\" class=\"dataframe\">\n",
       "  <thead>\n",
       "    <tr style=\"text-align: right;\">\n",
       "      <th></th>\n",
       "      <th>id</th>\n",
       "      <th>name</th>\n",
       "      <th>parent_id</th>\n",
       "    </tr>\n",
       "  </thead>\n",
       "  <tbody>\n",
       "    <tr>\n",
       "      <th>0</th>\n",
       "      <td>1</td>\n",
       "      <td>Technic</td>\n",
       "      <td>NaN</td>\n",
       "    </tr>\n",
       "    <tr>\n",
       "      <th>1</th>\n",
       "      <td>3</td>\n",
       "      <td>Competition</td>\n",
       "      <td>1.0</td>\n",
       "    </tr>\n",
       "    <tr>\n",
       "      <th>2</th>\n",
       "      <td>4</td>\n",
       "      <td>Expert Builder</td>\n",
       "      <td>1.0</td>\n",
       "    </tr>\n",
       "    <tr>\n",
       "      <th>3</th>\n",
       "      <td>16</td>\n",
       "      <td>RoboRiders</td>\n",
       "      <td>1.0</td>\n",
       "    </tr>\n",
       "    <tr>\n",
       "      <th>4</th>\n",
       "      <td>17</td>\n",
       "      <td>Speed Slammers</td>\n",
       "      <td>1.0</td>\n",
       "    </tr>\n",
       "  </tbody>\n",
       "</table>\n",
       "</div>"
      ],
      "text/plain": [
       "   id            name  parent_id\n",
       "0   1         Technic        NaN\n",
       "1   3     Competition        1.0\n",
       "2   4  Expert Builder        1.0\n",
       "3  16      RoboRiders        1.0\n",
       "4  17  Speed Slammers        1.0"
      ]
     },
     "execution_count": 6,
     "metadata": {},
     "output_type": "execute_result"
    }
   ],
   "source": [
    "## exploring LEGO themes\n",
    "df_themes.head()"
   ]
  },
  {
   "cell_type": "code",
   "execution_count": 7,
   "id": "c6fdc58f",
   "metadata": {},
   "outputs": [
    {
     "data": {
      "text/plain": [
       "466"
      ]
     },
     "execution_count": 7,
     "metadata": {},
     "output_type": "execute_result"
    }
   ],
   "source": [
    "#counting the number of Themes\n",
    "len(df_themes)"
   ]
  },
  {
   "cell_type": "code",
   "execution_count": 8,
   "id": "31a9f2f5",
   "metadata": {
    "scrolled": true
   },
   "outputs": [
    {
     "data": {
      "text/plain": [
       "id           466\n",
       "name         383\n",
       "parent_id     55\n",
       "dtype: int64"
      ]
     },
     "execution_count": 8,
     "metadata": {},
     "output_type": "execute_result"
    }
   ],
   "source": [
    "#counting unique Themes\n",
    "df_themes.nunique()"
   ]
  },
  {
   "cell_type": "markdown",
   "id": "cfb95757",
   "metadata": {},
   "source": [
    "# Ninjago Collection\n",
    "\n",
    "By far, Ninjago are the most popular LEGO's at home. So I will explore this theme and see what I come up with."
   ]
  },
  {
   "cell_type": "code",
   "execution_count": 9,
   "id": "dd175fb2",
   "metadata": {
    "scrolled": true
   },
   "outputs": [
    {
     "data": {
      "text/html": [
       "<div>\n",
       "<style scoped>\n",
       "    .dataframe tbody tr th:only-of-type {\n",
       "        vertical-align: middle;\n",
       "    }\n",
       "\n",
       "    .dataframe tbody tr th {\n",
       "        vertical-align: top;\n",
       "    }\n",
       "\n",
       "    .dataframe thead th {\n",
       "        text-align: right;\n",
       "    }\n",
       "</style>\n",
       "<table border=\"1\" class=\"dataframe\">\n",
       "  <thead>\n",
       "    <tr style=\"text-align: right;\">\n",
       "      <th></th>\n",
       "      <th>id</th>\n",
       "      <th>name</th>\n",
       "      <th>parent_id</th>\n",
       "    </tr>\n",
       "  </thead>\n",
       "  <tbody>\n",
       "    <tr>\n",
       "      <th>215</th>\n",
       "      <td>435</td>\n",
       "      <td>Ninjago</td>\n",
       "      <td>NaN</td>\n",
       "    </tr>\n",
       "    <tr>\n",
       "      <th>326</th>\n",
       "      <td>597</td>\n",
       "      <td>Ninjago</td>\n",
       "      <td>591.0</td>\n",
       "    </tr>\n",
       "    <tr>\n",
       "      <th>343</th>\n",
       "      <td>616</td>\n",
       "      <td>The LEGO Ninjago Movie</td>\n",
       "      <td>435.0</td>\n",
       "    </tr>\n",
       "    <tr>\n",
       "      <th>345</th>\n",
       "      <td>618</td>\n",
       "      <td>The LEGO Ninjago Movie</td>\n",
       "      <td>535.0</td>\n",
       "    </tr>\n",
       "  </tbody>\n",
       "</table>\n",
       "</div>"
      ],
      "text/plain": [
       "      id                    name  parent_id\n",
       "215  435                 Ninjago        NaN\n",
       "326  597                 Ninjago      591.0\n",
       "343  616  The LEGO Ninjago Movie      435.0\n",
       "345  618  The LEGO Ninjago Movie      535.0"
      ]
     },
     "execution_count": 9,
     "metadata": {},
     "output_type": "execute_result"
    }
   ],
   "source": [
    "## filtering all NINJAGO themes\n",
    "df_ninjago = df_themes[df_themes['name'].str.contains('Ninjago')]\n",
    "df_ninjago"
   ]
  },
  {
   "cell_type": "markdown",
   "id": "ddb404bd",
   "metadata": {},
   "source": [
    "I'll use the df created in previous step and join it with the df containing the different Sets (df_sets). The result is a **dataframe containing all ninjago sets**. "
   ]
  },
  {
   "cell_type": "code",
   "execution_count": 10,
   "id": "5bc06d7c",
   "metadata": {
    "scrolled": true
   },
   "outputs": [
    {
     "data": {
      "text/html": [
       "<div>\n",
       "<style scoped>\n",
       "    .dataframe tbody tr th:only-of-type {\n",
       "        vertical-align: middle;\n",
       "    }\n",
       "\n",
       "    .dataframe tbody tr th {\n",
       "        vertical-align: top;\n",
       "    }\n",
       "\n",
       "    .dataframe thead th {\n",
       "        text-align: right;\n",
       "    }\n",
       "</style>\n",
       "<table border=\"1\" class=\"dataframe\">\n",
       "  <thead>\n",
       "    <tr style=\"text-align: right;\">\n",
       "      <th></th>\n",
       "      <th>set_num</th>\n",
       "      <th>name_set</th>\n",
       "      <th>year</th>\n",
       "      <th>num_parts</th>\n",
       "      <th>img_url</th>\n",
       "      <th>name_theme</th>\n",
       "    </tr>\n",
       "  </thead>\n",
       "  <tbody>\n",
       "    <tr>\n",
       "      <th>0</th>\n",
       "      <td>111901-1</td>\n",
       "      <td>Garmadon</td>\n",
       "      <td>2019</td>\n",
       "      <td>10</td>\n",
       "      <td>https://cdn.rebrickable.com/media/sets/111901-...</td>\n",
       "      <td>Ninjago</td>\n",
       "    </tr>\n",
       "    <tr>\n",
       "      <th>1</th>\n",
       "      <td>111902-1</td>\n",
       "      <td>Wu</td>\n",
       "      <td>2019</td>\n",
       "      <td>6</td>\n",
       "      <td>https://cdn.rebrickable.com/media/sets/111902-...</td>\n",
       "      <td>Ninjago</td>\n",
       "    </tr>\n",
       "    <tr>\n",
       "      <th>2</th>\n",
       "      <td>111903-1</td>\n",
       "      <td>Kai vs. Wyplash</td>\n",
       "      <td>2019</td>\n",
       "      <td>13</td>\n",
       "      <td>https://cdn.rebrickable.com/media/sets/111903-...</td>\n",
       "      <td>Ninjago</td>\n",
       "    </tr>\n",
       "    <tr>\n",
       "      <th>3</th>\n",
       "      <td>111904-1</td>\n",
       "      <td>Jay vs. Lasha</td>\n",
       "      <td>2019</td>\n",
       "      <td>12</td>\n",
       "      <td>https://cdn.rebrickable.com/media/sets/111904-...</td>\n",
       "      <td>Ninjago</td>\n",
       "    </tr>\n",
       "    <tr>\n",
       "      <th>4</th>\n",
       "      <td>112005-1</td>\n",
       "      <td>Cole vs. Nindroid</td>\n",
       "      <td>2020</td>\n",
       "      <td>20</td>\n",
       "      <td>https://cdn.rebrickable.com/media/sets/112005-...</td>\n",
       "      <td>Ninjago</td>\n",
       "    </tr>\n",
       "  </tbody>\n",
       "</table>\n",
       "</div>"
      ],
      "text/plain": [
       "    set_num           name_set  year  num_parts  \\\n",
       "0  111901-1           Garmadon  2019         10   \n",
       "1  111902-1                 Wu  2019          6   \n",
       "2  111903-1    Kai vs. Wyplash  2019         13   \n",
       "3  111904-1      Jay vs. Lasha  2019         12   \n",
       "4  112005-1  Cole vs. Nindroid  2020         20   \n",
       "\n",
       "                                             img_url name_theme  \n",
       "0  https://cdn.rebrickable.com/media/sets/111901-...    Ninjago  \n",
       "1  https://cdn.rebrickable.com/media/sets/111902-...    Ninjago  \n",
       "2  https://cdn.rebrickable.com/media/sets/111903-...    Ninjago  \n",
       "3  https://cdn.rebrickable.com/media/sets/111904-...    Ninjago  \n",
       "4  https://cdn.rebrickable.com/media/sets/112005-...    Ninjago  "
      ]
     },
     "execution_count": 10,
     "metadata": {},
     "output_type": "execute_result"
    }
   ],
   "source": [
    "##Joining the Sets & Themes df\n",
    "df_sets_ninjago = df_sets.merge(df_ninjago, left_on='theme_id', right_on='id', how='right', suffixes=['_set', '_theme'])\n",
    "\n",
    "#droppping unnecessary columns\n",
    "df_sets_ninjago = df_sets_ninjago.drop(columns=['id','parent_id', 'theme_id'], axis=1)\n",
    "\n",
    "df_sets_ninjago.head()"
   ]
  },
  {
   "cell_type": "code",
   "execution_count": 11,
   "id": "0c97d283",
   "metadata": {
    "scrolled": true
   },
   "outputs": [
    {
     "name": "stdout",
     "output_type": "stream",
     "text": [
      "There are a total of 556 Ninjago sets in the collection\n"
     ]
    }
   ],
   "source": [
    "## Couting the total number Ninjago sets\n",
    "print(f\"There are a total of {len(df_sets_ninjago)} Ninjago sets in the collection\" ) ## total number of ninjago sets = 556"
   ]
  },
  {
   "cell_type": "code",
   "execution_count": 12,
   "id": "e452aeb6",
   "metadata": {},
   "outputs": [
    {
     "name": "stdout",
     "output_type": "stream",
     "text": [
      "The total Ninjago collection contains: 139858 parts\n"
     ]
    }
   ],
   "source": [
    "##Couting the total number of parts from all Ninjago sets\n",
    "print(f\"The total Ninjago collection contains: {df_sets_ninjago['num_parts'].sum()} parts\" ) ## total number of lego parts = 139.858"
   ]
  },
  {
   "cell_type": "code",
   "execution_count": 13,
   "id": "8efee4fd",
   "metadata": {
    "scrolled": true
   },
   "outputs": [
    {
     "name": "stdout",
     "output_type": "stream",
     "text": [
      "Ninjago sets contain in average: 251.54 parts\n"
     ]
    }
   ],
   "source": [
    "##Couting the average number of parts in Ninjago sets\n",
    "print(f\"Ninjago sets contain in average: {round(df_sets_ninjago['num_parts'].sum()/len(df_sets_ninjago), 2)} parts\" )"
   ]
  },
  {
   "cell_type": "code",
   "execution_count": 43,
   "id": "c2a6e437",
   "metadata": {},
   "outputs": [
    {
     "data": {
      "image/png": "[encoded data removed]",
      "text/plain": [
       "<Figure size 640x480 with 1 Axes>"
      ]
     },
     "metadata": {},
     "output_type": "display_data"
    }
   ],
   "source": [
    "## plotting a histogram of number of parts\n",
    "sns.histplot(x='num_parts', data=df_sets_ninjago, bins=100, kde=True)\n",
    "plt.xlabel('Number of parts')\n",
    "plt.ylabel('Count')\n",
    "plt.title('Distribution of the number of parts per set')\n",
    "plt.show()"
   ]
  },
  {
   "cell_type": "code",
   "execution_count": 15,
   "id": "dc1e2582",
   "metadata": {},
   "outputs": [
    {
     "name": "stdout",
     "output_type": "stream",
     "text": [
      "First Ninjago set was released in: 2011\n",
      "Latest Ninjago set was released in: 2023\n"
     ]
    }
   ],
   "source": [
    "## first release of a ninjago set\n",
    "print(f\"First Ninjago set was released in: {df_sets_ninjago['year'].min()}\")\n",
    "print(f\"Latest Ninjago set was released in: {df_sets_ninjago['year'].max()}\")"
   ]
  },
  {
   "cell_type": "code",
   "execution_count": 16,
   "id": "79122e5d",
   "metadata": {},
   "outputs": [
    {
     "name": "stdout",
     "output_type": "stream",
     "text": [
      "Min number of parts: 0\n",
      "Max number of parts: 6163\n"
     ]
    }
   ],
   "source": [
    "## MAX and MIN number of parts in the Ninjago sets \n",
    "print(f\"Min number of parts: {df_sets_ninjago['num_parts'].min()}\")\n",
    "print(f\"Max number of parts: {df_sets_ninjago['num_parts'].max()}\")"
   ]
  },
  {
   "cell_type": "markdown",
   "id": "6d85b9ad",
   "metadata": {},
   "source": [
    "I'm now curious which is the Set with the **maximum number of pieces**. So let's explore it:"
   ]
  },
  {
   "cell_type": "code",
   "execution_count": 17,
   "id": "badb2d99",
   "metadata": {
    "scrolled": true
   },
   "outputs": [
    {
     "data": {
      "text/html": [
       "<div>\n",
       "<style scoped>\n",
       "    .dataframe tbody tr th:only-of-type {\n",
       "        vertical-align: middle;\n",
       "    }\n",
       "\n",
       "    .dataframe tbody tr th {\n",
       "        vertical-align: top;\n",
       "    }\n",
       "\n",
       "    .dataframe thead th {\n",
       "        text-align: right;\n",
       "    }\n",
       "</style>\n",
       "<table border=\"1\" class=\"dataframe\">\n",
       "  <thead>\n",
       "    <tr style=\"text-align: right;\">\n",
       "      <th></th>\n",
       "      <th>set_num</th>\n",
       "      <th>name_set</th>\n",
       "      <th>year</th>\n",
       "      <th>num_parts</th>\n",
       "      <th>img_url</th>\n",
       "      <th>name_theme</th>\n",
       "    </tr>\n",
       "  </thead>\n",
       "  <tbody>\n",
       "    <tr>\n",
       "      <th>327</th>\n",
       "      <td>71799-1</td>\n",
       "      <td>NINJAGO City Markets</td>\n",
       "      <td>2023</td>\n",
       "      <td>6163</td>\n",
       "      <td>https://cdn.rebrickable.com/media/sets/71799-1...</td>\n",
       "      <td>Ninjago</td>\n",
       "    </tr>\n",
       "  </tbody>\n",
       "</table>\n",
       "</div>"
      ],
      "text/plain": [
       "     set_num              name_set  year  num_parts  \\\n",
       "327  71799-1  NINJAGO City Markets  2023       6163   \n",
       "\n",
       "                                               img_url name_theme  \n",
       "327  https://cdn.rebrickable.com/media/sets/71799-1...    Ninjago  "
      ]
     },
     "execution_count": 17,
     "metadata": {},
     "output_type": "execute_result"
    }
   ],
   "source": [
    "max_numb_parts = df_sets_ninjago['num_parts'].max()\n",
    "\n",
    "max_ninjago_set = df_sets_ninjago[df_sets_ninjago['num_parts'] == max_numb_parts]\n",
    "max_ninjago_set"
   ]
  },
  {
   "cell_type": "markdown",
   "id": "044bbc62",
   "metadata": {},
   "source": [
    "**Nice! That's a set my kids would love!**\n",
    "\n",
    "![NINJAGO City Markets](https://cdn.rebrickable.com/media/sets/71799-1.jpg)\n",
    "\n"
   ]
  },
  {
   "cell_type": "markdown",
   "id": "176572b7",
   "metadata": {},
   "source": [
    "# Summary Statistics\n",
    "Printing the **summary statistics** of the df for the numerical variables. Some of the steps above could be ommited by just printing below code.\n"
   ]
  },
  {
   "cell_type": "code",
   "execution_count": 18,
   "id": "0885ff7e",
   "metadata": {},
   "outputs": [
    {
     "data": {
      "text/html": [
       "<div>\n",
       "<style scoped>\n",
       "    .dataframe tbody tr th:only-of-type {\n",
       "        vertical-align: middle;\n",
       "    }\n",
       "\n",
       "    .dataframe tbody tr th {\n",
       "        vertical-align: top;\n",
       "    }\n",
       "\n",
       "    .dataframe thead th {\n",
       "        text-align: right;\n",
       "    }\n",
       "</style>\n",
       "<table border=\"1\" class=\"dataframe\">\n",
       "  <thead>\n",
       "    <tr style=\"text-align: right;\">\n",
       "      <th></th>\n",
       "      <th>year</th>\n",
       "      <th>num_parts</th>\n",
       "    </tr>\n",
       "  </thead>\n",
       "  <tbody>\n",
       "    <tr>\n",
       "      <th>count</th>\n",
       "      <td>556.000000</td>\n",
       "      <td>556.000000</td>\n",
       "    </tr>\n",
       "    <tr>\n",
       "      <th>mean</th>\n",
       "      <td>2017.417266</td>\n",
       "      <td>251.543165</td>\n",
       "    </tr>\n",
       "    <tr>\n",
       "      <th>std</th>\n",
       "      <td>3.551727</td>\n",
       "      <td>538.548195</td>\n",
       "    </tr>\n",
       "    <tr>\n",
       "      <th>min</th>\n",
       "      <td>2011.000000</td>\n",
       "      <td>0.000000</td>\n",
       "    </tr>\n",
       "    <tr>\n",
       "      <th>25%</th>\n",
       "      <td>2015.000000</td>\n",
       "      <td>13.000000</td>\n",
       "    </tr>\n",
       "    <tr>\n",
       "      <th>50%</th>\n",
       "      <td>2017.000000</td>\n",
       "      <td>54.000000</td>\n",
       "    </tr>\n",
       "    <tr>\n",
       "      <th>75%</th>\n",
       "      <td>2020.000000</td>\n",
       "      <td>298.000000</td>\n",
       "    </tr>\n",
       "    <tr>\n",
       "      <th>max</th>\n",
       "      <td>2023.000000</td>\n",
       "      <td>6163.000000</td>\n",
       "    </tr>\n",
       "  </tbody>\n",
       "</table>\n",
       "</div>"
      ],
      "text/plain": [
       "              year    num_parts\n",
       "count   556.000000   556.000000\n",
       "mean   2017.417266   251.543165\n",
       "std       3.551727   538.548195\n",
       "min    2011.000000     0.000000\n",
       "25%    2015.000000    13.000000\n",
       "50%    2017.000000    54.000000\n",
       "75%    2020.000000   298.000000\n",
       "max    2023.000000  6163.000000"
      ]
     },
     "execution_count": 18,
     "metadata": {},
     "output_type": "execute_result"
    }
   ],
   "source": [
    "#printing the summary statistics\n",
    "df_sets_ninjago.describe()"
   ]
  },
  {
   "cell_type": "markdown",
   "id": "a0aa98c4",
   "metadata": {},
   "source": [
    "# Some further data exploration \n",
    "\n",
    "We group the data by **release year** to explore which has been LEGO's strategy."
   ]
  },
  {
   "cell_type": "code",
   "execution_count": 19,
   "id": "7ccd5bed",
   "metadata": {},
   "outputs": [
    {
     "data": {
      "text/html": [
       "<div>\n",
       "<style scoped>\n",
       "    .dataframe tbody tr th:only-of-type {\n",
       "        vertical-align: middle;\n",
       "    }\n",
       "\n",
       "    .dataframe tbody tr th {\n",
       "        vertical-align: top;\n",
       "    }\n",
       "\n",
       "    .dataframe thead tr th {\n",
       "        text-align: left;\n",
       "    }\n",
       "\n",
       "    .dataframe thead tr:last-of-type th {\n",
       "        text-align: right;\n",
       "    }\n",
       "</style>\n",
       "<table border=\"1\" class=\"dataframe\">\n",
       "  <thead>\n",
       "    <tr>\n",
       "      <th></th>\n",
       "      <th colspan=\"8\" halign=\"left\">num_parts</th>\n",
       "    </tr>\n",
       "    <tr>\n",
       "      <th></th>\n",
       "      <th>count</th>\n",
       "      <th>mean</th>\n",
       "      <th>std</th>\n",
       "      <th>min</th>\n",
       "      <th>25%</th>\n",
       "      <th>50%</th>\n",
       "      <th>75%</th>\n",
       "      <th>max</th>\n",
       "    </tr>\n",
       "    <tr>\n",
       "      <th>year</th>\n",
       "      <th></th>\n",
       "      <th></th>\n",
       "      <th></th>\n",
       "      <th></th>\n",
       "      <th></th>\n",
       "      <th></th>\n",
       "      <th></th>\n",
       "      <th></th>\n",
       "    </tr>\n",
       "  </thead>\n",
       "  <tbody>\n",
       "    <tr>\n",
       "      <th>2011</th>\n",
       "      <td>43.0</td>\n",
       "      <td>145.906977</td>\n",
       "      <td>230.274868</td>\n",
       "      <td>0.0</td>\n",
       "      <td>21.00</td>\n",
       "      <td>32.0</td>\n",
       "      <td>171.50</td>\n",
       "      <td>1174.0</td>\n",
       "    </tr>\n",
       "    <tr>\n",
       "      <th>2012</th>\n",
       "      <td>47.0</td>\n",
       "      <td>141.680851</td>\n",
       "      <td>208.561857</td>\n",
       "      <td>0.0</td>\n",
       "      <td>21.00</td>\n",
       "      <td>28.0</td>\n",
       "      <td>226.50</td>\n",
       "      <td>915.0</td>\n",
       "    </tr>\n",
       "    <tr>\n",
       "      <th>2013</th>\n",
       "      <td>7.0</td>\n",
       "      <td>237.714286</td>\n",
       "      <td>173.107591</td>\n",
       "      <td>36.0</td>\n",
       "      <td>136.50</td>\n",
       "      <td>210.0</td>\n",
       "      <td>290.00</td>\n",
       "      <td>565.0</td>\n",
       "    </tr>\n",
       "    <tr>\n",
       "      <th>2014</th>\n",
       "      <td>10.0</td>\n",
       "      <td>393.600000</td>\n",
       "      <td>355.488772</td>\n",
       "      <td>10.0</td>\n",
       "      <td>198.75</td>\n",
       "      <td>293.5</td>\n",
       "      <td>493.50</td>\n",
       "      <td>1224.0</td>\n",
       "    </tr>\n",
       "    <tr>\n",
       "      <th>2015</th>\n",
       "      <td>53.0</td>\n",
       "      <td>229.471698</td>\n",
       "      <td>376.315723</td>\n",
       "      <td>0.0</td>\n",
       "      <td>27.00</td>\n",
       "      <td>54.0</td>\n",
       "      <td>236.00</td>\n",
       "      <td>2030.0</td>\n",
       "    </tr>\n",
       "    <tr>\n",
       "      <th>2016</th>\n",
       "      <td>40.0</td>\n",
       "      <td>221.650000</td>\n",
       "      <td>313.616584</td>\n",
       "      <td>1.0</td>\n",
       "      <td>14.75</td>\n",
       "      <td>41.5</td>\n",
       "      <td>344.75</td>\n",
       "      <td>1255.0</td>\n",
       "    </tr>\n",
       "    <tr>\n",
       "      <th>2017</th>\n",
       "      <td>81.0</td>\n",
       "      <td>266.185185</td>\n",
       "      <td>651.961772</td>\n",
       "      <td>0.0</td>\n",
       "      <td>8.00</td>\n",
       "      <td>14.0</td>\n",
       "      <td>233.00</td>\n",
       "      <td>4873.0</td>\n",
       "    </tr>\n",
       "    <tr>\n",
       "      <th>2018</th>\n",
       "      <td>49.0</td>\n",
       "      <td>268.632653</td>\n",
       "      <td>585.438215</td>\n",
       "      <td>0.0</td>\n",
       "      <td>15.00</td>\n",
       "      <td>66.0</td>\n",
       "      <td>222.00</td>\n",
       "      <td>3555.0</td>\n",
       "    </tr>\n",
       "    <tr>\n",
       "      <th>2019</th>\n",
       "      <td>50.0</td>\n",
       "      <td>210.400000</td>\n",
       "      <td>324.296161</td>\n",
       "      <td>6.0</td>\n",
       "      <td>11.25</td>\n",
       "      <td>67.0</td>\n",
       "      <td>217.75</td>\n",
       "      <td>1223.0</td>\n",
       "    </tr>\n",
       "    <tr>\n",
       "      <th>2020</th>\n",
       "      <td>47.0</td>\n",
       "      <td>252.148936</td>\n",
       "      <td>377.723500</td>\n",
       "      <td>6.0</td>\n",
       "      <td>12.50</td>\n",
       "      <td>56.0</td>\n",
       "      <td>362.00</td>\n",
       "      <td>1783.0</td>\n",
       "    </tr>\n",
       "    <tr>\n",
       "      <th>2021</th>\n",
       "      <td>45.0</td>\n",
       "      <td>358.111111</td>\n",
       "      <td>875.453577</td>\n",
       "      <td>7.0</td>\n",
       "      <td>11.00</td>\n",
       "      <td>66.0</td>\n",
       "      <td>449.00</td>\n",
       "      <td>5709.0</td>\n",
       "    </tr>\n",
       "    <tr>\n",
       "      <th>2022</th>\n",
       "      <td>45.0</td>\n",
       "      <td>235.822222</td>\n",
       "      <td>359.604915</td>\n",
       "      <td>0.0</td>\n",
       "      <td>13.00</td>\n",
       "      <td>33.0</td>\n",
       "      <td>279.00</td>\n",
       "      <td>1396.0</td>\n",
       "    </tr>\n",
       "    <tr>\n",
       "      <th>2023</th>\n",
       "      <td>39.0</td>\n",
       "      <td>422.435897</td>\n",
       "      <td>1020.195693</td>\n",
       "      <td>0.0</td>\n",
       "      <td>14.00</td>\n",
       "      <td>94.0</td>\n",
       "      <td>353.50</td>\n",
       "      <td>6163.0</td>\n",
       "    </tr>\n",
       "  </tbody>\n",
       "</table>\n",
       "</div>"
      ],
      "text/plain": [
       "     num_parts                                                              \n",
       "         count        mean          std   min     25%    50%     75%     max\n",
       "year                                                                        \n",
       "2011      43.0  145.906977   230.274868   0.0   21.00   32.0  171.50  1174.0\n",
       "2012      47.0  141.680851   208.561857   0.0   21.00   28.0  226.50   915.0\n",
       "2013       7.0  237.714286   173.107591  36.0  136.50  210.0  290.00   565.0\n",
       "2014      10.0  393.600000   355.488772  10.0  198.75  293.5  493.50  1224.0\n",
       "2015      53.0  229.471698   376.315723   0.0   27.00   54.0  236.00  2030.0\n",
       "2016      40.0  221.650000   313.616584   1.0   14.75   41.5  344.75  1255.0\n",
       "2017      81.0  266.185185   651.961772   0.0    8.00   14.0  233.00  4873.0\n",
       "2018      49.0  268.632653   585.438215   0.0   15.00   66.0  222.00  3555.0\n",
       "2019      50.0  210.400000   324.296161   6.0   11.25   67.0  217.75  1223.0\n",
       "2020      47.0  252.148936   377.723500   6.0   12.50   56.0  362.00  1783.0\n",
       "2021      45.0  358.111111   875.453577   7.0   11.00   66.0  449.00  5709.0\n",
       "2022      45.0  235.822222   359.604915   0.0   13.00   33.0  279.00  1396.0\n",
       "2023      39.0  422.435897  1020.195693   0.0   14.00   94.0  353.50  6163.0"
      ]
     },
     "execution_count": 19,
     "metadata": {},
     "output_type": "execute_result"
    }
   ],
   "source": [
    "## summary statistics per release year\n",
    "grouped_year = df_sets_ninjago.groupby('year').describe()\n",
    "\n",
    "grouped_year"
   ]
  },
  {
   "cell_type": "markdown",
   "id": "e7694582",
   "metadata": {},
   "source": [
    "Plotting the **number of sets** released per year and **average number of parts** in each set."
   ]
  },
  {
   "cell_type": "code",
   "execution_count": 20,
   "id": "9bfd5b97",
   "metadata": {
    "scrolled": false
   },
   "outputs": [
    {
     "data": {
      "image/png": "[encoded data removed]",
      "text/plain": [
       "<Figure size 1500x600 with 2 Axes>"
      ]
     },
     "metadata": {},
     "output_type": "display_data"
    }
   ],
   "source": [
    "fig, (ax1, ax2) = plt.subplots(1, 2, figsize=(15, 6))  # 1 row, 2 columns\n",
    "\n",
    "# Plotting the number of sets for each  year\n",
    "ax1.plot(grouped_year.index, grouped_year[('num_parts', 'count')], color='tab:blue')\n",
    "ax1.set_xlabel('Release year')\n",
    "ax1.set_ylabel('Sets released', color='tab:blue')\n",
    "ax1.set_title('Number of sets released per year')\n",
    "\n",
    "# Rotate x-axis labels for better readability\n",
    "ax1.set_xticks(grouped_year.index)\n",
    "ax1.set_xticklabels(grouped_year.index, rotation=90)\n",
    "\n",
    "# Plotting the average parts per set for each year\n",
    "ax2.plot(grouped_year.index, grouped_year[('num_parts', 'mean')], color='tab:red')\n",
    "ax2.set_xlabel('Release year')\n",
    "ax2.set_ylabel('Average parts per set', color='tab:red')\n",
    "ax2.set_title('Average parts per set per release year')\n",
    "\n",
    "# Rotate x-axis labels for better readability\n",
    "ax2.set_xticks(grouped_year.index)\n",
    "ax2.set_xticklabels(grouped_year.index, rotation=90)\n",
    "\n",
    "plt.tight_layout()  \n",
    "plt.show()\n"
   ]
  },
  {
   "cell_type": "markdown",
   "id": "6455cb1f",
   "metadata": {},
   "source": [
    "At a first glance, it would seem that as the number of sets released goes down, the average number of parts goes up.\n",
    "\n",
    "We can measure the strenght of this relationship by **calculating the correlatation coefficient** between both variables."
   ]
  },
  {
   "cell_type": "code",
   "execution_count": 21,
   "id": "b974c838",
   "metadata": {},
   "outputs": [
    {
     "name": "stdout",
     "output_type": "stream",
     "text": [
      "Correlation coefficient: -0.2582\n"
     ]
    },
    {
     "data": {
      "image/png": "[encoded data removed]",
      "text/plain": [
       "<Figure size 640x480 with 1 Axes>"
      ]
     },
     "metadata": {},
     "output_type": "display_data"
    }
   ],
   "source": [
    "grouped_year_2 = df_sets_ninjago.groupby('year').agg(total_sets=('year', 'count'), avg_parts=('num_parts', 'mean'))\n",
    "\n",
    "grouped_year_2\n",
    "\n",
    "sns.regplot(x='total_sets', y='avg_parts',  data=grouped_year_2)\n",
    "plt.plot()\n",
    "\n",
    "\n",
    "corr_coef = f\"Correlation coefficient: {round(grouped_year_2['total_sets'].corr(grouped_year_2['avg_parts']),4)}\"\n",
    "\n",
    "print(corr_coef)"
   ]
  },
  {
   "cell_type": "markdown",
   "id": "1c79df07",
   "metadata": {},
   "source": [
    "A **correlation coefficient of -0.2582** shows a **weak negative correlation** between the two variables.  "
   ]
  },
  {
   "cell_type": "markdown",
   "id": "740068cc",
   "metadata": {},
   "source": [
    "# Exploring my kid's LEGO collection"
   ]
  },
  {
   "cell_type": "markdown",
   "id": "ad0a5b7e",
   "metadata": {},
   "source": [
    "Now that we have an understanding of the Ninjago collection, let's dive into my kid's collection.\n",
    "\n",
    "With my kids help, I managed to collect most of the codes for the different sets they own.  "
   ]
  },
  {
   "cell_type": "code",
   "execution_count": 22,
   "id": "d069a261",
   "metadata": {},
   "outputs": [],
   "source": [
    "##List of LEGO NINJAGO sets my kid's own\n",
    "lego_purchased_codes = ['71735', '71733','71731','71730','71718','71706','71708','71707',\n",
    "                  '71761','71762','71757','71766','71735','71750','71752','71745',\n",
    "                  '71745','71746','71757','71788','71769','71770', '71761','71762']"
   ]
  },
  {
   "cell_type": "code",
   "execution_count": 23,
   "id": "b3eaaf84",
   "metadata": {},
   "outputs": [
    {
     "data": {
      "text/html": [
       "<div>\n",
       "<style scoped>\n",
       "    .dataframe tbody tr th:only-of-type {\n",
       "        vertical-align: middle;\n",
       "    }\n",
       "\n",
       "    .dataframe tbody tr th {\n",
       "        vertical-align: top;\n",
       "    }\n",
       "\n",
       "    .dataframe thead th {\n",
       "        text-align: right;\n",
       "    }\n",
       "</style>\n",
       "<table border=\"1\" class=\"dataframe\">\n",
       "  <thead>\n",
       "    <tr style=\"text-align: right;\">\n",
       "      <th></th>\n",
       "      <th>set_num</th>\n",
       "      <th>name_set</th>\n",
       "      <th>year</th>\n",
       "      <th>num_parts</th>\n",
       "      <th>img_url</th>\n",
       "      <th>name_theme</th>\n",
       "      <th>set_prefix</th>\n",
       "    </tr>\n",
       "  </thead>\n",
       "  <tbody>\n",
       "    <tr>\n",
       "      <th>245</th>\n",
       "      <td>71706-1</td>\n",
       "      <td>Cole's Speeder Car</td>\n",
       "      <td>2020</td>\n",
       "      <td>52</td>\n",
       "      <td>https://cdn.rebrickable.com/media/sets/71706-1...</td>\n",
       "      <td>Ninjago</td>\n",
       "      <td>71706</td>\n",
       "    </tr>\n",
       "    <tr>\n",
       "      <th>246</th>\n",
       "      <td>71707-1</td>\n",
       "      <td>Kai's Mech Jet</td>\n",
       "      <td>2020</td>\n",
       "      <td>226</td>\n",
       "      <td>https://cdn.rebrickable.com/media/sets/71707-1...</td>\n",
       "      <td>Ninjago</td>\n",
       "      <td>71707</td>\n",
       "    </tr>\n",
       "    <tr>\n",
       "      <th>247</th>\n",
       "      <td>71708-1</td>\n",
       "      <td>Gamer's Market</td>\n",
       "      <td>2020</td>\n",
       "      <td>228</td>\n",
       "      <td>https://cdn.rebrickable.com/media/sets/71708-1...</td>\n",
       "      <td>Ninjago</td>\n",
       "      <td>71708</td>\n",
       "    </tr>\n",
       "    <tr>\n",
       "      <th>257</th>\n",
       "      <td>71718-1</td>\n",
       "      <td>Wu's Battle Dragon</td>\n",
       "      <td>2020</td>\n",
       "      <td>322</td>\n",
       "      <td>https://cdn.rebrickable.com/media/sets/71718-1...</td>\n",
       "      <td>Ninjago</td>\n",
       "      <td>71718</td>\n",
       "    </tr>\n",
       "    <tr>\n",
       "      <th>262</th>\n",
       "      <td>71730-1</td>\n",
       "      <td>Epic Battle Set - Kai vs. Skulkin</td>\n",
       "      <td>2021</td>\n",
       "      <td>70</td>\n",
       "      <td>https://cdn.rebrickable.com/media/sets/71730-1...</td>\n",
       "      <td>Ninjago</td>\n",
       "      <td>71730</td>\n",
       "    </tr>\n",
       "  </tbody>\n",
       "</table>\n",
       "</div>"
      ],
      "text/plain": [
       "     set_num                           name_set  year  num_parts  \\\n",
       "245  71706-1                 Cole's Speeder Car  2020         52   \n",
       "246  71707-1                     Kai's Mech Jet  2020        226   \n",
       "247  71708-1                     Gamer's Market  2020        228   \n",
       "257  71718-1                 Wu's Battle Dragon  2020        322   \n",
       "262  71730-1  Epic Battle Set - Kai vs. Skulkin  2021         70   \n",
       "\n",
       "                                               img_url name_theme set_prefix  \n",
       "245  https://cdn.rebrickable.com/media/sets/71706-1...    Ninjago      71706  \n",
       "246  https://cdn.rebrickable.com/media/sets/71707-1...    Ninjago      71707  \n",
       "247  https://cdn.rebrickable.com/media/sets/71708-1...    Ninjago      71708  \n",
       "257  https://cdn.rebrickable.com/media/sets/71718-1...    Ninjago      71718  \n",
       "262  https://cdn.rebrickable.com/media/sets/71730-1...    Ninjago      71730  "
      ]
     },
     "execution_count": 23,
     "metadata": {},
     "output_type": "execute_result"
    }
   ],
   "source": [
    "##Some set codes have a prefix based on location or set version. Not sure which one's they own so for the purpose of this analysis I'll strip it. \n",
    "df_sets_ninjago['set_prefix'] = df_sets_ninjago['set_num'].str.split('-', n=1).str[0]\n",
    "\n",
    "#Filtering the df to include only the owned sets\n",
    "lego_purchased_ninjago = df_sets_ninjago[df_sets_ninjago['set_prefix'].isin(lego_purchased_codes)]\n",
    "\n",
    "lego_purchased_ninjago.head()"
   ]
  },
  {
   "cell_type": "markdown",
   "id": "25f531b9",
   "metadata": {},
   "source": [
    "# Total number of LEGO Ninjago sets"
   ]
  },
  {
   "cell_type": "code",
   "execution_count": 24,
   "id": "ecc0cfe6",
   "metadata": {},
   "outputs": [
    {
     "name": "stdout",
     "output_type": "stream",
     "text": [
      "My kids own a total of 19 Ninjago sets.\n"
     ]
    }
   ],
   "source": [
    "##Counting the number of sets they own\n",
    "total_lego_ninjago_owned = len(lego_purchased_ninjago)\n",
    "\n",
    "print(f\"My kids own a total of {total_lego_ninjago_owned} Ninjago sets.\")"
   ]
  },
  {
   "cell_type": "markdown",
   "id": "0553f461",
   "metadata": {},
   "source": [
    "# Total number of LEGO Ninjago parts"
   ]
  },
  {
   "cell_type": "code",
   "execution_count": 25,
   "id": "e8296213",
   "metadata": {
    "scrolled": true
   },
   "outputs": [
    {
     "name": "stdout",
     "output_type": "stream",
     "text": [
      "My kids own a total of 4420 parts corresponding to Ninjago sets.\n"
     ]
    }
   ],
   "source": [
    "## Counting the number of parts from these sets\n",
    "total_lego_parts = lego_purchased_ninjago['num_parts'].sum()\n",
    "\n",
    "print(f\"My kids own a total of {total_lego_parts} parts corresponding to Ninjago sets.\") ##total LEGO ninjago parts owned 4.420"
   ]
  },
  {
   "cell_type": "markdown",
   "id": "774065be",
   "metadata": {},
   "source": [
    "# Total number of LEGO Ninjago sets per YEAR"
   ]
  },
  {
   "cell_type": "code",
   "execution_count": 26,
   "id": "d53d27b1",
   "metadata": {},
   "outputs": [
    {
     "data": {
      "text/html": [
       "<div>\n",
       "<style scoped>\n",
       "    .dataframe tbody tr th:only-of-type {\n",
       "        vertical-align: middle;\n",
       "    }\n",
       "\n",
       "    .dataframe tbody tr th {\n",
       "        vertical-align: top;\n",
       "    }\n",
       "\n",
       "    .dataframe thead th {\n",
       "        text-align: right;\n",
       "    }\n",
       "</style>\n",
       "<table border=\"1\" class=\"dataframe\">\n",
       "  <thead>\n",
       "    <tr style=\"text-align: right;\">\n",
       "      <th></th>\n",
       "      <th>total_sets</th>\n",
       "      <th>total_parts</th>\n",
       "    </tr>\n",
       "    <tr>\n",
       "      <th>year</th>\n",
       "      <th></th>\n",
       "      <th></th>\n",
       "    </tr>\n",
       "  </thead>\n",
       "  <tbody>\n",
       "    <tr>\n",
       "      <th>2020</th>\n",
       "      <td>4</td>\n",
       "      <td>828</td>\n",
       "    </tr>\n",
       "    <tr>\n",
       "      <th>2021</th>\n",
       "      <td>8</td>\n",
       "      <td>1761</td>\n",
       "    </tr>\n",
       "    <tr>\n",
       "      <th>2022</th>\n",
       "      <td>6</td>\n",
       "      <td>1767</td>\n",
       "    </tr>\n",
       "    <tr>\n",
       "      <th>2023</th>\n",
       "      <td>1</td>\n",
       "      <td>64</td>\n",
       "    </tr>\n",
       "  </tbody>\n",
       "</table>\n",
       "</div>"
      ],
      "text/plain": [
       "      total_sets  total_parts\n",
       "year                         \n",
       "2020           4          828\n",
       "2021           8         1761\n",
       "2022           6         1767\n",
       "2023           1           64"
      ]
     },
     "execution_count": 26,
     "metadata": {},
     "output_type": "execute_result"
    }
   ],
   "source": [
    "##Counting the number of Sets & total_parts grouped by release YEAR\n",
    "total_lego_per_year = lego_purchased_ninjago[['year','num_parts']].groupby('year').agg(total_sets=('year', 'count'), total_parts=('num_parts', 'sum'))\n",
    "\n",
    "total_lego_per_year"
   ]
  },
  {
   "cell_type": "code",
   "execution_count": 27,
   "id": "6f6229a9",
   "metadata": {
    "scrolled": false
   },
   "outputs": [
    {
     "data": {
      "image/png": "[encoded data removed]",
      "text/plain": [
       "<Figure size 640x480 with 1 Axes>"
      ]
     },
     "metadata": {},
     "output_type": "display_data"
    },
    {
     "data": {
      "image/png": "[encoded data removed]",
      "text/plain": [
       "<Figure size 640x480 with 1 Axes>"
      ]
     },
     "metadata": {},
     "output_type": "display_data"
    }
   ],
   "source": [
    "##Plotting the number of sets & parts by release year\n",
    "\n",
    "years = total_lego_per_year.index\n",
    "\n",
    "plt.bar(total_lego_per_year.index, total_lego_per_year['total_sets'])\n",
    "plt.xticks(years)\n",
    "plt.title('Number of purchased sets by release year')\n",
    "plt.xlabel('Release year')\n",
    "plt.ylabel('Number of sets owned')\n",
    "plt.show()\n",
    "\n",
    "plt.bar(total_lego_per_year.index, total_lego_per_year['total_parts'])\n",
    "plt.title('Number of parts in owned sets by release year')\n",
    "plt.xlabel('Release year')\n",
    "plt.ylabel('Number of parts of sets owned')\n",
    "plt.xticks(years)\n",
    "plt.show()"
   ]
  },
  {
   "cell_type": "markdown",
   "id": "4a9006b7",
   "metadata": {},
   "source": [
    "# What happened in 2023? \n",
    "\n",
    "It seems the interest in Ninjago took a dip in 2023. Let me explore further as it might not be the case."
   ]
  },
  {
   "cell_type": "code",
   "execution_count": 28,
   "id": "df8809b5",
   "metadata": {},
   "outputs": [
    {
     "data": {
      "text/html": [
       "<div>\n",
       "<style scoped>\n",
       "    .dataframe tbody tr th:only-of-type {\n",
       "        vertical-align: middle;\n",
       "    }\n",
       "\n",
       "    .dataframe tbody tr th {\n",
       "        vertical-align: top;\n",
       "    }\n",
       "\n",
       "    .dataframe thead tr th {\n",
       "        text-align: left;\n",
       "    }\n",
       "\n",
       "    .dataframe thead tr:last-of-type th {\n",
       "        text-align: right;\n",
       "    }\n",
       "</style>\n",
       "<table border=\"1\" class=\"dataframe\">\n",
       "  <thead>\n",
       "    <tr>\n",
       "      <th></th>\n",
       "      <th colspan=\"8\" halign=\"left\">num_parts</th>\n",
       "    </tr>\n",
       "    <tr>\n",
       "      <th></th>\n",
       "      <th>count</th>\n",
       "      <th>mean</th>\n",
       "      <th>std</th>\n",
       "      <th>min</th>\n",
       "      <th>25%</th>\n",
       "      <th>50%</th>\n",
       "      <th>75%</th>\n",
       "      <th>max</th>\n",
       "    </tr>\n",
       "    <tr>\n",
       "      <th>year</th>\n",
       "      <th></th>\n",
       "      <th></th>\n",
       "      <th></th>\n",
       "      <th></th>\n",
       "      <th></th>\n",
       "      <th></th>\n",
       "      <th></th>\n",
       "      <th></th>\n",
       "    </tr>\n",
       "  </thead>\n",
       "  <tbody>\n",
       "    <tr>\n",
       "      <th>2020</th>\n",
       "      <td>4.0</td>\n",
       "      <td>207.000</td>\n",
       "      <td>112.623266</td>\n",
       "      <td>52.0</td>\n",
       "      <td>182.50</td>\n",
       "      <td>227.0</td>\n",
       "      <td>251.5</td>\n",
       "      <td>322.0</td>\n",
       "    </tr>\n",
       "    <tr>\n",
       "      <th>2021</th>\n",
       "      <td>8.0</td>\n",
       "      <td>220.125</td>\n",
       "      <td>159.787750</td>\n",
       "      <td>60.0</td>\n",
       "      <td>69.00</td>\n",
       "      <td>205.5</td>\n",
       "      <td>308.0</td>\n",
       "      <td>506.0</td>\n",
       "    </tr>\n",
       "    <tr>\n",
       "      <th>2022</th>\n",
       "      <td>6.0</td>\n",
       "      <td>294.500</td>\n",
       "      <td>252.844419</td>\n",
       "      <td>57.0</td>\n",
       "      <td>122.75</td>\n",
       "      <td>236.5</td>\n",
       "      <td>363.0</td>\n",
       "      <td>747.0</td>\n",
       "    </tr>\n",
       "    <tr>\n",
       "      <th>2023</th>\n",
       "      <td>1.0</td>\n",
       "      <td>64.000</td>\n",
       "      <td>NaN</td>\n",
       "      <td>64.0</td>\n",
       "      <td>64.00</td>\n",
       "      <td>64.0</td>\n",
       "      <td>64.0</td>\n",
       "      <td>64.0</td>\n",
       "    </tr>\n",
       "  </tbody>\n",
       "</table>\n",
       "</div>"
      ],
      "text/plain": [
       "     num_parts                                                        \n",
       "         count     mean         std   min     25%    50%    75%    max\n",
       "year                                                                  \n",
       "2020       4.0  207.000  112.623266  52.0  182.50  227.0  251.5  322.0\n",
       "2021       8.0  220.125  159.787750  60.0   69.00  205.5  308.0  506.0\n",
       "2022       6.0  294.500  252.844419  57.0  122.75  236.5  363.0  747.0\n",
       "2023       1.0   64.000         NaN  64.0   64.00   64.0   64.0   64.0"
      ]
     },
     "execution_count": 28,
     "metadata": {},
     "output_type": "execute_result"
    }
   ],
   "source": [
    "grouped = lego_purchased_ninjago.groupby('year').describe()\n",
    "\n",
    "grouped"
   ]
  },
  {
   "cell_type": "markdown",
   "id": "14d9c7cc",
   "metadata": {},
   "source": [
    "After grouping by release year, I can see that the **mean of number of parts has gone up every year** until 2023. \n",
    "\n",
    "Without access to additional info to analyze (ex. purchase date) I could only do some educated guesses. I could think, that some sets purchased in 2023 could be from 2022 releases. "
   ]
  },
  {
   "cell_type": "markdown",
   "id": "2dfe9398",
   "metadata": {},
   "source": [
    "# Most popular ninja (by sets)"
   ]
  },
  {
   "cell_type": "code",
   "execution_count": 29,
   "id": "80b7f66b",
   "metadata": {},
   "outputs": [],
   "source": [
    "## Making a list of the names of the Ninjago characters \n",
    "ninja_names = ['Kai', 'Jay', 'Lloyd', 'Cole', 'Zane','Nia','Wu' ]"
   ]
  },
  {
   "cell_type": "code",
   "execution_count": 30,
   "id": "2f62aeba",
   "metadata": {},
   "outputs": [
    {
     "name": "stdout",
     "output_type": "stream",
     "text": [
      "{'Kai': 3, 'Jay': 0, 'Lloyd': 5, 'Cole': 3, 'Zane': 3, 'Nia': 0, 'Wu': 1}\n"
     ]
    }
   ],
   "source": [
    "## iterating over every name_set to count and identify to which character it corresponds\n",
    "\n",
    "ninja_dict = {}\n",
    "for ninja in ninja_names: \n",
    "    count = lego_purchased_ninjago[lego_purchased_ninjago['name_set'].str.contains(ninja)]\n",
    "    ninja_dict[ninja] = len(count)\n",
    "\n",
    "print(ninja_dict)"
   ]
  },
  {
   "cell_type": "code",
   "execution_count": 31,
   "id": "75ebfe0d",
   "metadata": {},
   "outputs": [],
   "source": [
    "## creating a df with information on the characters collected in above step\n",
    "sets_by_ninja = pd.DataFrame(ninja_dict.items(), columns=['ninja_name','quantity'])\n",
    "\n",
    "sets_by_ninja = sets_by_ninja.sort_values('quantity', ascending=False)"
   ]
  },
  {
   "cell_type": "code",
   "execution_count": 32,
   "id": "f002ac67",
   "metadata": {},
   "outputs": [
    {
     "data": {
      "image/png": "[encoded data removed]",
      "text/plain": [
       "<Figure size 640x480 with 1 Axes>"
      ]
     },
     "metadata": {},
     "output_type": "display_data"
    }
   ],
   "source": [
    "## plotting the number of Sets for each ninjago character\n",
    "plt.bar(sets_by_ninja['ninja_name'], sets_by_ninja['quantity'])\n",
    "plt.title('Sets owned by character')\n",
    "plt.xlabel('Character names')\n",
    "plt.ylabel('Number of sets per character')\n",
    "plt.show()"
   ]
  },
  {
   "cell_type": "markdown",
   "id": "ab587ee3",
   "metadata": {},
   "source": [
    "However, this might not be the most accurate approach as some sets include various minifigs. \n",
    "\n",
    "So I'll explore futher."
   ]
  },
  {
   "cell_type": "markdown",
   "id": "032b4dfc",
   "metadata": {},
   "source": [
    "# Joining minifigs to accurately see which ninja's they own"
   ]
  },
  {
   "cell_type": "markdown",
   "id": "e9110d6d",
   "metadata": {},
   "source": [
    "From the **inventories** and **inventory_minifigs** dataframes we can know which minifigs are included in each set.\n",
    "\n",
    "The next step is to denormalize the database so that we can understand in a more clear way the information."
   ]
  },
  {
   "cell_type": "code",
   "execution_count": 33,
   "id": "26b7983c",
   "metadata": {},
   "outputs": [
    {
     "data": {
      "text/html": [
       "<div>\n",
       "<style scoped>\n",
       "    .dataframe tbody tr th:only-of-type {\n",
       "        vertical-align: middle;\n",
       "    }\n",
       "\n",
       "    .dataframe tbody tr th {\n",
       "        vertical-align: top;\n",
       "    }\n",
       "\n",
       "    .dataframe thead th {\n",
       "        text-align: right;\n",
       "    }\n",
       "</style>\n",
       "<table border=\"1\" class=\"dataframe\">\n",
       "  <thead>\n",
       "    <tr style=\"text-align: right;\">\n",
       "      <th></th>\n",
       "      <th>fig_num</th>\n",
       "      <th>name</th>\n",
       "      <th>num_parts_minifig</th>\n",
       "      <th>img_url_minifig</th>\n",
       "      <th>inventory_id</th>\n",
       "      <th>quantity</th>\n",
       "      <th>id</th>\n",
       "      <th>version</th>\n",
       "      <th>set_num</th>\n",
       "      <th>name_set</th>\n",
       "      <th>year</th>\n",
       "      <th>num_parts_sets</th>\n",
       "      <th>img_url_sets</th>\n",
       "      <th>name_theme</th>\n",
       "      <th>set_prefix</th>\n",
       "    </tr>\n",
       "  </thead>\n",
       "  <tbody>\n",
       "    <tr>\n",
       "      <th>0</th>\n",
       "      <td>fig-002152</td>\n",
       "      <td>Jay in Rebooted Outfit (Legacy) - MANTER Torso</td>\n",
       "      <td>5</td>\n",
       "      <td>https://cdn.rebrickable.com/media/sets/fig-002...</td>\n",
       "      <td>87174</td>\n",
       "      <td>1</td>\n",
       "      <td>87174</td>\n",
       "      <td>2</td>\n",
       "      <td>71735-1</td>\n",
       "      <td>Tournament of Elements</td>\n",
       "      <td>2021</td>\n",
       "      <td>292</td>\n",
       "      <td>https://cdn.rebrickable.com/media/sets/71735-1...</td>\n",
       "      <td>Ninjago</td>\n",
       "      <td>71735</td>\n",
       "    </tr>\n",
       "    <tr>\n",
       "      <th>1</th>\n",
       "      <td>fig-009091</td>\n",
       "      <td>Kai with Hair (Legacy)</td>\n",
       "      <td>5</td>\n",
       "      <td>https://cdn.rebrickable.com/media/sets/fig-009...</td>\n",
       "      <td>87174</td>\n",
       "      <td>1</td>\n",
       "      <td>87174</td>\n",
       "      <td>2</td>\n",
       "      <td>71735-1</td>\n",
       "      <td>Tournament of Elements</td>\n",
       "      <td>2021</td>\n",
       "      <td>292</td>\n",
       "      <td>https://cdn.rebrickable.com/media/sets/71735-1...</td>\n",
       "      <td>Ninjago</td>\n",
       "      <td>71735</td>\n",
       "    </tr>\n",
       "    <tr>\n",
       "      <th>2</th>\n",
       "      <td>fig-010976</td>\n",
       "      <td>Eyezor - Legacy</td>\n",
       "      <td>4</td>\n",
       "      <td>https://cdn.rebrickable.com/media/sets/fig-010...</td>\n",
       "      <td>87174</td>\n",
       "      <td>1</td>\n",
       "      <td>87174</td>\n",
       "      <td>2</td>\n",
       "      <td>71735-1</td>\n",
       "      <td>Tournament of Elements</td>\n",
       "      <td>2021</td>\n",
       "      <td>292</td>\n",
       "      <td>https://cdn.rebrickable.com/media/sets/71735-1...</td>\n",
       "      <td>Ninjago</td>\n",
       "      <td>71735</td>\n",
       "    </tr>\n",
       "    <tr>\n",
       "      <th>3</th>\n",
       "      <td>fig-010979</td>\n",
       "      <td>Lloyd - Gold, with Hair</td>\n",
       "      <td>5</td>\n",
       "      <td>https://cdn.rebrickable.com/media/sets/fig-010...</td>\n",
       "      <td>87174</td>\n",
       "      <td>1</td>\n",
       "      <td>87174</td>\n",
       "      <td>2</td>\n",
       "      <td>71735-1</td>\n",
       "      <td>Tournament of Elements</td>\n",
       "      <td>2021</td>\n",
       "      <td>292</td>\n",
       "      <td>https://cdn.rebrickable.com/media/sets/71735-1...</td>\n",
       "      <td>Ninjago</td>\n",
       "      <td>71735</td>\n",
       "    </tr>\n",
       "    <tr>\n",
       "      <th>4</th>\n",
       "      <td>fig-010980</td>\n",
       "      <td>Bolobo</td>\n",
       "      <td>4</td>\n",
       "      <td>https://cdn.rebrickable.com/media/sets/fig-010...</td>\n",
       "      <td>87174</td>\n",
       "      <td>1</td>\n",
       "      <td>87174</td>\n",
       "      <td>2</td>\n",
       "      <td>71735-1</td>\n",
       "      <td>Tournament of Elements</td>\n",
       "      <td>2021</td>\n",
       "      <td>292</td>\n",
       "      <td>https://cdn.rebrickable.com/media/sets/71735-1...</td>\n",
       "      <td>Ninjago</td>\n",
       "      <td>71735</td>\n",
       "    </tr>\n",
       "  </tbody>\n",
       "</table>\n",
       "</div>"
      ],
      "text/plain": [
       "      fig_num                                            name  \\\n",
       "0  fig-002152  Jay in Rebooted Outfit (Legacy) - MANTER Torso   \n",
       "1  fig-009091                          Kai with Hair (Legacy)   \n",
       "2  fig-010976                                 Eyezor - Legacy   \n",
       "3  fig-010979                         Lloyd - Gold, with Hair   \n",
       "4  fig-010980                                          Bolobo   \n",
       "\n",
       "   num_parts_minifig                                    img_url_minifig  \\\n",
       "0                  5  https://cdn.rebrickable.com/media/sets/fig-002...   \n",
       "1                  5  https://cdn.rebrickable.com/media/sets/fig-009...   \n",
       "2                  4  https://cdn.rebrickable.com/media/sets/fig-010...   \n",
       "3                  5  https://cdn.rebrickable.com/media/sets/fig-010...   \n",
       "4                  4  https://cdn.rebrickable.com/media/sets/fig-010...   \n",
       "\n",
       "   inventory_id  quantity     id  version  set_num                name_set  \\\n",
       "0         87174         1  87174        2  71735-1  Tournament of Elements   \n",
       "1         87174         1  87174        2  71735-1  Tournament of Elements   \n",
       "2         87174         1  87174        2  71735-1  Tournament of Elements   \n",
       "3         87174         1  87174        2  71735-1  Tournament of Elements   \n",
       "4         87174         1  87174        2  71735-1  Tournament of Elements   \n",
       "\n",
       "   year  num_parts_sets                                       img_url_sets  \\\n",
       "0  2021             292  https://cdn.rebrickable.com/media/sets/71735-1...   \n",
       "1  2021             292  https://cdn.rebrickable.com/media/sets/71735-1...   \n",
       "2  2021             292  https://cdn.rebrickable.com/media/sets/71735-1...   \n",
       "3  2021             292  https://cdn.rebrickable.com/media/sets/71735-1...   \n",
       "4  2021             292  https://cdn.rebrickable.com/media/sets/71735-1...   \n",
       "\n",
       "  name_theme set_prefix  \n",
       "0    Ninjago      71735  \n",
       "1    Ninjago      71735  \n",
       "2    Ninjago      71735  \n",
       "3    Ninjago      71735  \n",
       "4    Ninjago      71735  "
      ]
     },
     "execution_count": 33,
     "metadata": {},
     "output_type": "execute_result"
    }
   ],
   "source": [
    "#Joining minifigs and inventory_minifigs\n",
    "df_minifig = df_minifigs.merge(df_inventory_minifigs, on='fig_num')\n",
    "\n",
    "#Joining minifigs and inventory_minifigs AND inventories\n",
    "df_minifig_inv = df_minifig.merge(df_inventories, left_on='inventory_id', right_on='id')\n",
    "\n",
    "#Joining previous dfs with SETS (ninjagos_owned)\n",
    "df_owned_joined = df_minifig_inv.merge(lego_purchased_ninjago, on='set_num', suffixes=[\"_minifig\", \"_sets\"])\n",
    "\n",
    "df_owned_joined.head()"
   ]
  },
  {
   "cell_type": "code",
   "execution_count": 34,
   "id": "ea53b806",
   "metadata": {},
   "outputs": [
    {
     "name": "stdout",
     "output_type": "stream",
     "text": [
      "My kids own a total of 74 minifigs\n"
     ]
    }
   ],
   "source": [
    "## counting the number of minifigs they own\n",
    "print(f\"My kids own a total of {len(df_owned_joined)} minifigs\")"
   ]
  },
  {
   "cell_type": "code",
   "execution_count": 35,
   "id": "b0bf978d",
   "metadata": {},
   "outputs": [
    {
     "data": {
      "text/plain": [
       "<bound method Series.unique of 0     Jay in Rebooted Outfit (Legacy) - MANTER Torso\n",
       "1                             Kai with Hair (Legacy)\n",
       "2                                    Eyezor - Legacy\n",
       "3                            Lloyd - Gold, with Hair\n",
       "4                                             Bolobo\n",
       "                           ...                      \n",
       "69                                  General Aspheera\n",
       "70                                 Golden Dragon Kai\n",
       "71                           Zane, Crystalized Armor\n",
       "72                                  General Vangelis\n",
       "73                                Golden Dragon Cole\n",
       "Name: name, Length: 74, dtype: object>"
      ]
     },
     "execution_count": 35,
     "metadata": {},
     "output_type": "execute_result"
    }
   ],
   "source": [
    "##Exploring if each minifig is unique. \n",
    "df_owned_joined['name'].unique"
   ]
  },
  {
   "cell_type": "code",
   "execution_count": 36,
   "id": "0702a85d",
   "metadata": {
    "scrolled": false
   },
   "outputs": [
    {
     "name": "stdout",
     "output_type": "stream",
     "text": [
      "{'Kai': 7, 'Jay': 5, 'Lloyd': 9, 'Cole': 6, 'Zane': 5, 'Nia': 0, 'Wu': 1}\n"
     ]
    },
    {
     "data": {
      "text/html": [
       "<div>\n",
       "<style scoped>\n",
       "    .dataframe tbody tr th:only-of-type {\n",
       "        vertical-align: middle;\n",
       "    }\n",
       "\n",
       "    .dataframe tbody tr th {\n",
       "        vertical-align: top;\n",
       "    }\n",
       "\n",
       "    .dataframe thead th {\n",
       "        text-align: right;\n",
       "    }\n",
       "</style>\n",
       "<table border=\"1\" class=\"dataframe\">\n",
       "  <thead>\n",
       "    <tr style=\"text-align: right;\">\n",
       "      <th></th>\n",
       "      <th>ninja_name</th>\n",
       "      <th>quantity</th>\n",
       "    </tr>\n",
       "  </thead>\n",
       "  <tbody>\n",
       "    <tr>\n",
       "      <th>2</th>\n",
       "      <td>Lloyd</td>\n",
       "      <td>9</td>\n",
       "    </tr>\n",
       "    <tr>\n",
       "      <th>0</th>\n",
       "      <td>Kai</td>\n",
       "      <td>7</td>\n",
       "    </tr>\n",
       "    <tr>\n",
       "      <th>3</th>\n",
       "      <td>Cole</td>\n",
       "      <td>6</td>\n",
       "    </tr>\n",
       "    <tr>\n",
       "      <th>1</th>\n",
       "      <td>Jay</td>\n",
       "      <td>5</td>\n",
       "    </tr>\n",
       "    <tr>\n",
       "      <th>4</th>\n",
       "      <td>Zane</td>\n",
       "      <td>5</td>\n",
       "    </tr>\n",
       "    <tr>\n",
       "      <th>6</th>\n",
       "      <td>Wu</td>\n",
       "      <td>1</td>\n",
       "    </tr>\n",
       "    <tr>\n",
       "      <th>5</th>\n",
       "      <td>Nia</td>\n",
       "      <td>0</td>\n",
       "    </tr>\n",
       "  </tbody>\n",
       "</table>\n",
       "</div>"
      ],
      "text/plain": [
       "  ninja_name  quantity\n",
       "2      Lloyd         9\n",
       "0        Kai         7\n",
       "3       Cole         6\n",
       "1        Jay         5\n",
       "4       Zane         5\n",
       "6         Wu         1\n",
       "5        Nia         0"
      ]
     },
     "execution_count": 36,
     "metadata": {},
     "output_type": "execute_result"
    }
   ],
   "source": [
    "## count the number of minifigs for each ninjago character and create a dictionary out of it\n",
    "\n",
    "ninja_dict1 = {}\n",
    "for ninja in ninja_names: \n",
    "    count = df_owned_joined[df_owned_joined['name'].str.contains(ninja)]\n",
    "    ninja_dict1[ninja] = len(count)\n",
    "\n",
    "print(ninja_dict1)\n",
    "\n",
    "minifigs = pd.DataFrame(ninja_dict1.items(), columns=['ninja_name','quantity'])\n",
    "minifigs = minifigs.sort_values('quantity', ascending=False)\n",
    "minifigs"
   ]
  },
  {
   "cell_type": "code",
   "execution_count": 37,
   "id": "f46831fb",
   "metadata": {},
   "outputs": [
    {
     "data": {
      "image/png": "[encoded data removed]",
      "text/plain": [
       "<Figure size 640x480 with 1 Axes>"
      ]
     },
     "metadata": {},
     "output_type": "display_data"
    }
   ],
   "source": [
    "## proceed to plot again what qty they own of each character. This seems more accurate now.\n",
    "plt.bar(minifigs['ninja_name'], minifigs['quantity'])\n",
    "plt.title('Minifigs owned by character')\n",
    "plt.xlabel('Character names')\n",
    "plt.ylabel('Number of minifigs per character')\n",
    "plt.show()"
   ]
  },
  {
   "cell_type": "markdown",
   "id": "c5e49407",
   "metadata": {},
   "source": [
    "# Counting most popular LEGO brick colors"
   ]
  },
  {
   "cell_type": "code",
   "execution_count": 38,
   "id": "49e93e6c",
   "metadata": {
    "scrolled": true
   },
   "outputs": [
    {
     "data": {
      "text/html": [
       "<div>\n",
       "<style scoped>\n",
       "    .dataframe tbody tr th:only-of-type {\n",
       "        vertical-align: middle;\n",
       "    }\n",
       "\n",
       "    .dataframe tbody tr th {\n",
       "        vertical-align: top;\n",
       "    }\n",
       "\n",
       "    .dataframe thead th {\n",
       "        text-align: right;\n",
       "    }\n",
       "</style>\n",
       "<table border=\"1\" class=\"dataframe\">\n",
       "  <thead>\n",
       "    <tr style=\"text-align: right;\">\n",
       "      <th></th>\n",
       "      <th>fig_num</th>\n",
       "      <th>name_x</th>\n",
       "      <th>num_parts_minifig</th>\n",
       "      <th>img_url_minifig</th>\n",
       "      <th>inventory_id_x</th>\n",
       "      <th>quantity_x</th>\n",
       "      <th>id_x</th>\n",
       "      <th>version</th>\n",
       "      <th>set_num</th>\n",
       "      <th>name_set</th>\n",
       "      <th>...</th>\n",
       "      <th>inventory_id_y</th>\n",
       "      <th>part_num</th>\n",
       "      <th>color_id</th>\n",
       "      <th>quantity_y</th>\n",
       "      <th>is_spare</th>\n",
       "      <th>img_url</th>\n",
       "      <th>id_y</th>\n",
       "      <th>name_y</th>\n",
       "      <th>rgb</th>\n",
       "      <th>is_trans</th>\n",
       "    </tr>\n",
       "  </thead>\n",
       "  <tbody>\n",
       "    <tr>\n",
       "      <th>0</th>\n",
       "      <td>fig-002152</td>\n",
       "      <td>Jay in Rebooted Outfit (Legacy) - MANTER Torso</td>\n",
       "      <td>5</td>\n",
       "      <td>https://cdn.rebrickable.com/media/sets/fig-002...</td>\n",
       "      <td>87174</td>\n",
       "      <td>1</td>\n",
       "      <td>87174</td>\n",
       "      <td>2</td>\n",
       "      <td>71735-1</td>\n",
       "      <td>Tournament of Elements</td>\n",
       "      <td>...</td>\n",
       "      <td>87174</td>\n",
       "      <td>11211</td>\n",
       "      <td>0</td>\n",
       "      <td>1</td>\n",
       "      <td>f</td>\n",
       "      <td>https://cdn.rebrickable.com/media/parts/elemen...</td>\n",
       "      <td>0</td>\n",
       "      <td>Black</td>\n",
       "      <td>05131D</td>\n",
       "      <td>f</td>\n",
       "    </tr>\n",
       "    <tr>\n",
       "      <th>1</th>\n",
       "      <td>fig-002152</td>\n",
       "      <td>Jay in Rebooted Outfit (Legacy) - MANTER Torso</td>\n",
       "      <td>5</td>\n",
       "      <td>https://cdn.rebrickable.com/media/sets/fig-002...</td>\n",
       "      <td>87174</td>\n",
       "      <td>1</td>\n",
       "      <td>87174</td>\n",
       "      <td>2</td>\n",
       "      <td>71735-1</td>\n",
       "      <td>Tournament of Elements</td>\n",
       "      <td>...</td>\n",
       "      <td>87174</td>\n",
       "      <td>11476</td>\n",
       "      <td>0</td>\n",
       "      <td>4</td>\n",
       "      <td>f</td>\n",
       "      <td>https://cdn.rebrickable.com/media/parts/elemen...</td>\n",
       "      <td>0</td>\n",
       "      <td>Black</td>\n",
       "      <td>05131D</td>\n",
       "      <td>f</td>\n",
       "    </tr>\n",
       "    <tr>\n",
       "      <th>2</th>\n",
       "      <td>fig-002152</td>\n",
       "      <td>Jay in Rebooted Outfit (Legacy) - MANTER Torso</td>\n",
       "      <td>5</td>\n",
       "      <td>https://cdn.rebrickable.com/media/sets/fig-002...</td>\n",
       "      <td>87174</td>\n",
       "      <td>1</td>\n",
       "      <td>87174</td>\n",
       "      <td>2</td>\n",
       "      <td>71735-1</td>\n",
       "      <td>Tournament of Elements</td>\n",
       "      <td>...</td>\n",
       "      <td>87174</td>\n",
       "      <td>13564</td>\n",
       "      <td>0</td>\n",
       "      <td>1</td>\n",
       "      <td>f</td>\n",
       "      <td>https://cdn.rebrickable.com/media/parts/elemen...</td>\n",
       "      <td>0</td>\n",
       "      <td>Black</td>\n",
       "      <td>05131D</td>\n",
       "      <td>f</td>\n",
       "    </tr>\n",
       "    <tr>\n",
       "      <th>3</th>\n",
       "      <td>fig-002152</td>\n",
       "      <td>Jay in Rebooted Outfit (Legacy) - MANTER Torso</td>\n",
       "      <td>5</td>\n",
       "      <td>https://cdn.rebrickable.com/media/sets/fig-002...</td>\n",
       "      <td>87174</td>\n",
       "      <td>1</td>\n",
       "      <td>87174</td>\n",
       "      <td>2</td>\n",
       "      <td>71735-1</td>\n",
       "      <td>Tournament of Elements</td>\n",
       "      <td>...</td>\n",
       "      <td>87174</td>\n",
       "      <td>13564</td>\n",
       "      <td>0</td>\n",
       "      <td>1</td>\n",
       "      <td>t</td>\n",
       "      <td>https://cdn.rebrickable.com/media/parts/elemen...</td>\n",
       "      <td>0</td>\n",
       "      <td>Black</td>\n",
       "      <td>05131D</td>\n",
       "      <td>f</td>\n",
       "    </tr>\n",
       "    <tr>\n",
       "      <th>4</th>\n",
       "      <td>fig-002152</td>\n",
       "      <td>Jay in Rebooted Outfit (Legacy) - MANTER Torso</td>\n",
       "      <td>5</td>\n",
       "      <td>https://cdn.rebrickable.com/media/sets/fig-002...</td>\n",
       "      <td>87174</td>\n",
       "      <td>1</td>\n",
       "      <td>87174</td>\n",
       "      <td>2</td>\n",
       "      <td>71735-1</td>\n",
       "      <td>Tournament of Elements</td>\n",
       "      <td>...</td>\n",
       "      <td>87174</td>\n",
       "      <td>14716</td>\n",
       "      <td>0</td>\n",
       "      <td>8</td>\n",
       "      <td>f</td>\n",
       "      <td>https://cdn.rebrickable.com/media/parts/elemen...</td>\n",
       "      <td>0</td>\n",
       "      <td>Black</td>\n",
       "      <td>05131D</td>\n",
       "      <td>f</td>\n",
       "    </tr>\n",
       "  </tbody>\n",
       "</table>\n",
       "<p>5 rows × 25 columns</p>\n",
       "</div>"
      ],
      "text/plain": [
       "      fig_num                                          name_x  \\\n",
       "0  fig-002152  Jay in Rebooted Outfit (Legacy) - MANTER Torso   \n",
       "1  fig-002152  Jay in Rebooted Outfit (Legacy) - MANTER Torso   \n",
       "2  fig-002152  Jay in Rebooted Outfit (Legacy) - MANTER Torso   \n",
       "3  fig-002152  Jay in Rebooted Outfit (Legacy) - MANTER Torso   \n",
       "4  fig-002152  Jay in Rebooted Outfit (Legacy) - MANTER Torso   \n",
       "\n",
       "   num_parts_minifig                                    img_url_minifig  \\\n",
       "0                  5  https://cdn.rebrickable.com/media/sets/fig-002...   \n",
       "1                  5  https://cdn.rebrickable.com/media/sets/fig-002...   \n",
       "2                  5  https://cdn.rebrickable.com/media/sets/fig-002...   \n",
       "3                  5  https://cdn.rebrickable.com/media/sets/fig-002...   \n",
       "4                  5  https://cdn.rebrickable.com/media/sets/fig-002...   \n",
       "\n",
       "   inventory_id_x  quantity_x   id_x  version  set_num  \\\n",
       "0           87174           1  87174        2  71735-1   \n",
       "1           87174           1  87174        2  71735-1   \n",
       "2           87174           1  87174        2  71735-1   \n",
       "3           87174           1  87174        2  71735-1   \n",
       "4           87174           1  87174        2  71735-1   \n",
       "\n",
       "                 name_set  ...  inventory_id_y  part_num color_id quantity_y  \\\n",
       "0  Tournament of Elements  ...           87174     11211        0          1   \n",
       "1  Tournament of Elements  ...           87174     11476        0          4   \n",
       "2  Tournament of Elements  ...           87174     13564        0          1   \n",
       "3  Tournament of Elements  ...           87174     13564        0          1   \n",
       "4  Tournament of Elements  ...           87174     14716        0          8   \n",
       "\n",
       "  is_spare                                            img_url id_y  name_y  \\\n",
       "0        f  https://cdn.rebrickable.com/media/parts/elemen...    0   Black   \n",
       "1        f  https://cdn.rebrickable.com/media/parts/elemen...    0   Black   \n",
       "2        f  https://cdn.rebrickable.com/media/parts/elemen...    0   Black   \n",
       "3        t  https://cdn.rebrickable.com/media/parts/elemen...    0   Black   \n",
       "4        f  https://cdn.rebrickable.com/media/parts/elemen...    0   Black   \n",
       "\n",
       "      rgb is_trans  \n",
       "0  05131D        f  \n",
       "1  05131D        f  \n",
       "2  05131D        f  \n",
       "3  05131D        f  \n",
       "4  05131D        f  \n",
       "\n",
       "[5 rows x 25 columns]"
      ]
     },
     "execution_count": 38,
     "metadata": {},
     "output_type": "execute_result"
    }
   ],
   "source": [
    "#joining previous super join with inventory_parts\n",
    "df_inventories_parts_merged = df_owned_joined.merge(df_inventory_parts, left_on='id', right_on='inventory_id')\n",
    "\n",
    "\n",
    "#Joining with colors df\n",
    "df_colors_merged = df_inventories_parts_merged.merge(df_colors, left_on='color_id', right_on='id')\n",
    "df_colors_merged.head()\n"
   ]
  },
  {
   "cell_type": "code",
   "execution_count": 39,
   "id": "04f1dc55",
   "metadata": {
    "scrolled": true
   },
   "outputs": [
    {
     "data": {
      "text/html": [
       "<div>\n",
       "<style scoped>\n",
       "    .dataframe tbody tr th:only-of-type {\n",
       "        vertical-align: middle;\n",
       "    }\n",
       "\n",
       "    .dataframe tbody tr th {\n",
       "        vertical-align: top;\n",
       "    }\n",
       "\n",
       "    .dataframe thead th {\n",
       "        text-align: right;\n",
       "    }\n",
       "</style>\n",
       "<table border=\"1\" class=\"dataframe\">\n",
       "  <thead>\n",
       "    <tr style=\"text-align: right;\">\n",
       "      <th></th>\n",
       "      <th>color</th>\n",
       "      <th>rgb</th>\n",
       "      <th>qty</th>\n",
       "      <th>pct</th>\n",
       "    </tr>\n",
       "  </thead>\n",
       "  <tbody>\n",
       "    <tr>\n",
       "      <th>0</th>\n",
       "      <td>Black</td>\n",
       "      <td>05131D</td>\n",
       "      <td>2049.0</td>\n",
       "      <td>0.237813</td>\n",
       "    </tr>\n",
       "    <tr>\n",
       "      <th>1</th>\n",
       "      <td>Pearl Gold</td>\n",
       "      <td>AA7F2E</td>\n",
       "      <td>863.0</td>\n",
       "      <td>0.100162</td>\n",
       "    </tr>\n",
       "    <tr>\n",
       "      <th>2</th>\n",
       "      <td>Dark Bluish Gray</td>\n",
       "      <td>6C6E68</td>\n",
       "      <td>712.0</td>\n",
       "      <td>0.082637</td>\n",
       "    </tr>\n",
       "    <tr>\n",
       "      <th>3</th>\n",
       "      <td>White</td>\n",
       "      <td>FFFFFF</td>\n",
       "      <td>658.0</td>\n",
       "      <td>0.076370</td>\n",
       "    </tr>\n",
       "    <tr>\n",
       "      <th>4</th>\n",
       "      <td>Light Bluish Gray</td>\n",
       "      <td>A0A5A9</td>\n",
       "      <td>489.0</td>\n",
       "      <td>0.056755</td>\n",
       "    </tr>\n",
       "    <tr>\n",
       "      <th>5</th>\n",
       "      <td>Red</td>\n",
       "      <td>C91A09</td>\n",
       "      <td>462.0</td>\n",
       "      <td>0.053621</td>\n",
       "    </tr>\n",
       "    <tr>\n",
       "      <th>6</th>\n",
       "      <td>Dark Blue</td>\n",
       "      <td>0A3463</td>\n",
       "      <td>459.0</td>\n",
       "      <td>0.053273</td>\n",
       "    </tr>\n",
       "    <tr>\n",
       "      <th>7</th>\n",
       "      <td>Reddish Brown</td>\n",
       "      <td>582A12</td>\n",
       "      <td>350.0</td>\n",
       "      <td>0.040622</td>\n",
       "    </tr>\n",
       "    <tr>\n",
       "      <th>8</th>\n",
       "      <td>Tan</td>\n",
       "      <td>E4CD9E</td>\n",
       "      <td>271.0</td>\n",
       "      <td>0.031453</td>\n",
       "    </tr>\n",
       "    <tr>\n",
       "      <th>9</th>\n",
       "      <td>Bright Green</td>\n",
       "      <td>4B9F4A</td>\n",
       "      <td>214.0</td>\n",
       "      <td>0.024838</td>\n",
       "    </tr>\n",
       "    <tr>\n",
       "      <th>10</th>\n",
       "      <td>other</td>\n",
       "      <td>1D4A5B</td>\n",
       "      <td>2089.0</td>\n",
       "      <td>0.242456</td>\n",
       "    </tr>\n",
       "  </tbody>\n",
       "</table>\n",
       "</div>"
      ],
      "text/plain": [
       "                color     rgb     qty       pct\n",
       "0               Black  05131D  2049.0  0.237813\n",
       "1          Pearl Gold  AA7F2E   863.0  0.100162\n",
       "2    Dark Bluish Gray  6C6E68   712.0  0.082637\n",
       "3               White  FFFFFF   658.0  0.076370\n",
       "4   Light Bluish Gray  A0A5A9   489.0  0.056755\n",
       "5                 Red  C91A09   462.0  0.053621\n",
       "6           Dark Blue  0A3463   459.0  0.053273\n",
       "7       Reddish Brown  582A12   350.0  0.040622\n",
       "8                 Tan  E4CD9E   271.0  0.031453\n",
       "9        Bright Green  4B9F4A   214.0  0.024838\n",
       "10              other  1D4A5B  2089.0  0.242456"
      ]
     },
     "execution_count": 39,
     "metadata": {},
     "output_type": "execute_result"
    }
   ],
   "source": [
    "## colors expressed in percentages\n",
    "colors_percentage = df_colors_merged[['name_y', 'rgb']].value_counts()\n",
    "\n",
    "colors_df = pd.DataFrame(colors_percentage)\n",
    "colors_df.reset_index(inplace=True)\n",
    "colors_df.columns = ['color', 'rgb', 'qty']\n",
    "\n",
    "colors_df['pct'] = colors_df['qty']/sum(colors_df['qty'])\n",
    "\n",
    "#displaying first 10 most popular colors\n",
    "first_ten_colors = colors_df.iloc[:10]\n",
    "\n",
    "## adding all remaining colors\n",
    "last_colors = colors_df.iloc[10:]\n",
    "sum_other_colors = last_colors[['qty', 'pct']].sum()\n",
    "\n",
    "## adding all remaining colors as a sum to first_ten_colors\n",
    "other_color_row = pd.Series({'color': 'other', 'rgb': '1D4A5B', 'qty': sum_other_colors['qty'], 'pct': sum_other_colors['pct']})\n",
    "first_ten_colors = first_ten_colors.append(other_color_row, ignore_index=True)\n",
    "\n",
    "first_ten_colors"
   ]
  },
  {
   "cell_type": "code",
   "execution_count": 40,
   "id": "ade66395",
   "metadata": {
    "scrolled": false
   },
   "outputs": [
    {
     "data": {
      "image/png": "[encoded data removed]",
      "text/plain": [
       "<Figure size 600x600 with 1 Axes>"
      ]
     },
     "metadata": {},
     "output_type": "display_data"
    }
   ],
   "source": [
    "#Plotting a pie chart with information on the most popular brick colors\n",
    "labels = first_ten_colors['color']\n",
    "sizes = first_ten_colors['pct']\n",
    "hex_colors = first_ten_colors['rgb']\n",
    "\n",
    "# Convert hexadecimal RGB values to RGB values between 0 and 1\n",
    "colors = [(int(hex_color[0:2], 16)/255, int(hex_color[2:4], 16)/255, int(hex_color[4:6], 16)/255) for hex_color in hex_colors]\n",
    "\n",
    "\n",
    "# Create a pie chart\n",
    "plt.figure(figsize=(6, 6))\n",
    "plt.pie(sizes, labels=labels, colors=colors, autopct='%1.1f%%',startangle=140, textprops={'color': 'purple'}) \n",
    "\n",
    "plt.title(\"LEGO bricks by color\")\n",
    "plt.show()"
   ]
  },
  {
   "cell_type": "markdown",
   "id": "5151d6d7",
   "metadata": {},
   "source": [
    "**If you've enjoyed this notebook, feel free to connect on [LinkedIn](https://www.linkedin.com/in/jonathan-kraayenbrink/)  and [GitHub](https://github.com/kraayenjon).**"
   ]
  }
 ],
 "metadata": {
  "kernelspec": {
   "display_name": "Python 3 (ipykernel)",
   "language": "python",
   "name": "python3"
  },
  "language_info": {
   "codemirror_mode": {
    "name": "ipython",
    "version": 3
   },
   "file_extension": ".py",
   "mimetype": "text/x-python",
   "name": "python",
   "nbconvert_exporter": "python",
   "pygments_lexer": "ipython3",
   "version": "3.9.13"
  }
 },
 "nbformat": 4,
 "nbformat_minor": 5
}
